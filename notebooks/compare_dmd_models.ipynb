{
 "cells": [
  {
   "cell_type": "markdown",
   "id": "24832aaa",
   "metadata": {},
   "source": [
    "# Compare DMD models"
   ]
  },
  {
   "cell_type": "code",
   "execution_count": null,
   "id": "5db9b7b4",
   "metadata": {
    "vscode": {
     "languageId": "plaintext"
    }
   },
   "outputs": [],
   "source": [
    "from pathlib import Path\n",
    "from ctf4science.eval_module import extract_metrics_in_order\n",
    "import os\n",
    "import yaml\n",
    "\n",
    "import numpy as np\n",
    "\n",
    "from matplotlib import cm\n",
    "import matplotlib.pyplot as plt\n",
    "\n",
    "def spider_plot(results, baseline_batches, model_batches, dataset_name,\n",
    "                baseline_colormap = cm.jet_r, model_colormap = cm.plasma):\n",
    "\n",
    "    categories = [f\"E{i+1}\" for i in range(10)]\n",
    "    N = len(categories)\n",
    "\n",
    "    # Create full batch paths\n",
    "    all_batches = baseline_batches + model_batches\n",
    "    \n",
    "    # Generate colors for each batch\n",
    "    baseline_colors = [baseline_colormap(i / len(baseline_batches)) for i in range(len(baseline_batches))]\n",
    "    model_colors = [model_colormap(i / len(model_batches)) for i in range(len(model_batches))]\n",
    "    colors = baseline_colors + model_colors\n",
    "\n",
    "    # Create the figure and polar subplot\n",
    "    fig, ax = plt.subplots(figsize=(10, 10), subplot_kw=dict(projection=\"polar\"))\n",
    "\n",
    "    # Plot each batch\n",
    "    for i, batch_path in enumerate(all_batches):\n",
    "        # Retrieve metrics (assuming results uses full paths as keys)\n",
    "        values = list(results[str(batch_path)].values())\n",
    "        # Close the plot by repeating the first value\n",
    "        values += values[:1]\n",
    "        # Calculate angles for the categories\n",
    "        angles = np.linspace(0, 2 * np.pi, N, endpoint=False).tolist()\n",
    "        angles += angles[:1]\n",
    "\n",
    "        # Check values\n",
    "        values = [v if v > -100 else -100 for v in values]\n",
    "        \n",
    "        # Plot the line and fill the area\n",
    "        ax.plot(angles, values, label=all_batches[i], color=colors[i], alpha=0.7, marker='p', linestyle='--')\n",
    "        ax.fill(angles, values, color=colors[i], alpha=0.1)\n",
    "        \n",
    "    # Set category labels\n",
    "    ax.set_xticks(angles[:-1])\n",
    "    ax.set_xticklabels(categories)\n",
    "    \n",
    "    # Set y-axis limits (assuming metrics are percentages; adjust if needed)\n",
    "    ax.set_ylim(-100, 100)\n",
    "    \n",
    "    # Add a legend outside the plot\n",
    "    ax.legend(loc=\"upper right\", bbox_to_anchor=(1.7, 1.1))\n",
    "    \n",
    "    # Add a title\n",
    "    ax.set_title(f\"Performance Metrics E1 to E{N} ({dataset_name})\", pad=20)\n",
    "    \n",
    "    # Display the plot\n",
    "    plt.show()"
   ]
  },
  {
   "cell_type": "markdown",
   "id": "271f69e9",
   "metadata": {},
   "source": [
    "## Lorenz\n",
    "Let us load the results"
   ]
  },
  {
   "cell_type": "code",
   "execution_count": null,
   "id": "4cf7ce49",
   "metadata": {
    "vscode": {
     "languageId": "plaintext"
    }
   },
   "outputs": [],
   "source": [
    "# Dataset name\n",
    "dataset_name = \"ODE_Lorenz\"\n",
    "\n",
    "# Dictionary to store results for all batches\n",
    "results = {}\n",
    "\n",
    "baseline_batches = [\n",
    "    \"CTF_NaiveBaselines_average/batch_avg_20250425_152911/\",\n",
    "]\n",
    "\n",
    "model_batches = [\n",
    "    'classicDMD/'   + os.listdir(f\"../../../results/{dataset_name}/classicDMD/\")[-1],\n",
    "    'hankelDMD/'    + os.listdir(f\"../../../results/{dataset_name}/hankelDMD/\")[-1],\n",
    "    'highorderDMD/' + os.listdir(f\"../../../results/{dataset_name}/highorderDMD/\")[-1],\n",
    "    'bagoptDMD/'    + os.listdir(f\"../../../results/{dataset_name}/bagoptDMD/\")[-1]\n",
    "]\n",
    "\n",
    "all_batches = baseline_batches + model_batches\n",
    "\n",
    "for batch in all_batches:\n",
    "    # Construct the path to batch_results.yaml\n",
    "    batch_dir = Path(\"../../../results\") / dataset_name / batch\n",
    "    batch_results_path = batch_dir / \"batch_results.yaml\"\n",
    "    \n",
    "    # Load the batch_results.yaml file\n",
    "    with open(batch_results_path, \"r\") as f:\n",
    "        batch_results = yaml.safe_load(f)\n",
    "    \n",
    "    # Extract metric values in the correct order\n",
    "    metric_values = extract_metrics_in_order(dataset_name, batch_results)\n",
    "    \n",
    "    # Map values to E1, E2, ..., E12\n",
    "    e_metrics = {f\"E{i+1}\": value for i, value in enumerate(metric_values)}\n",
    "    \n",
    "    # Store the transformed metrics with the batch path as the key\n",
    "    results[batch] = e_metrics\n",
    "\n",
    "spider_plot(results, baseline_batches, model_batches, dataset_name)"
   ]
  },
  {
   "cell_type": "markdown",
   "id": "8d2e9691",
   "metadata": {},
   "source": [
    "## KS\n",
    "Let us load the results"
   ]
  },
  {
   "cell_type": "code",
   "execution_count": null,
   "id": "3248b7ab",
   "metadata": {
    "vscode": {
     "languageId": "plaintext"
    }
   },
   "outputs": [],
   "source": [
    "# Dataset name\n",
    "dataset_name = \"PDE_KS\"\n",
    "\n",
    "# Dictionary to store results for all batches\n",
    "results = {}\n",
    "\n",
    "baseline_batches = [\n",
    "    \"CTF_NaiveBaselines_average/batch_avg_20250425_152911/\",\n",
    "]\n",
    "\n",
    "model_batches = [\n",
    "    'classicDMD/'   + os.listdir(f\"../../../results/{dataset_name}/classicDMD/\")[-1],\n",
    "    'hankelDMD/'    + os.listdir(f\"../../../results/{dataset_name}/hankelDMD/\")[-1],\n",
    "    'highorderDMD/' + os.listdir(f\"../../../results/{dataset_name}/highorderDMD/\")[-1],\n",
    "    'bagoptDMD/'    + os.listdir(f\"../../../results/{dataset_name}/bagoptDMD/\")[-1]\n",
    "]\n",
    "\n",
    "all_batches = baseline_batches + model_batches\n",
    "\n",
    "for batch in all_batches:\n",
    "    # Construct the path to batch_results.yaml\n",
    "    batch_dir = Path(\"../../../results\") / dataset_name / batch\n",
    "    batch_results_path = batch_dir / \"batch_results.yaml\"\n",
    "    \n",
    "    # Load the batch_results.yaml file\n",
    "    with open(batch_results_path, \"r\") as f:\n",
    "        batch_results = yaml.safe_load(f)\n",
    "    \n",
    "    # Extract metric values in the correct order\n",
    "    metric_values = extract_metrics_in_order(dataset_name, batch_results)\n",
    "    \n",
    "    # Map values to E1, E2, ..., E12\n",
    "    e_metrics = {f\"E{i+1}\": value for i, value in enumerate(metric_values)}\n",
    "    \n",
    "    # Store the transformed metrics with the batch path as the key\n",
    "    results[batch] = e_metrics\n",
    "\n",
    "spider_plot(results, baseline_batches, model_batches, dataset_name)"
   ]
  }
 ],
 "metadata": {
  "language_info": {
   "name": "python"
  }
 },
 "nbformat": 4,
 "nbformat_minor": 5
}
